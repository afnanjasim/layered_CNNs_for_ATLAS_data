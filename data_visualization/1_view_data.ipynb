{
 "cells": [
  {
   "cell_type": "markdown",
   "metadata": {},
   "source": [
    "# Code to view the ATLAS 2D data \n",
    "August 9, 2019\n"
   ]
  },
  {
   "cell_type": "code",
   "execution_count": 3,
   "metadata": {},
   "outputs": [],
   "source": [
    "import numpy as np\n",
    "import matplotlib.pyplot as plt\n",
    "import pandas as pd\n",
    "import h5py\n",
    "\n",
    "import subprocess as sp\n"
   ]
  },
  {
   "cell_type": "code",
   "execution_count": 4,
   "metadata": {},
   "outputs": [],
   "source": [
    "%matplotlib widget"
   ]
  },
  {
   "cell_type": "code",
   "execution_count": 5,
   "metadata": {},
   "outputs": [],
   "source": [
    "data_dir='/global/project/projectdirs/dasrepo/vpa/atlas_cnn/data/RPVSusyData/'"
   ]
  },
  {
   "cell_type": "code",
   "execution_count": 6,
   "metadata": {},
   "outputs": [],
   "source": [
    "# try: \n",
    "#     hf = h5py.File(filename,'r')\n",
    "# except Exception as e:\n",
    "#     print(e)\n",
    "#     print(\"Name of file\",filename)\n",
    "#     raise SystemError\n",
    "    \n",
    "    \n",
    "# print(list(hf.keys()))\n",
    "# dset=hf['all_events']"
   ]
  },
  {
   "cell_type": "code",
   "execution_count": 7,
   "metadata": {},
   "outputs": [],
   "source": [
    "# print([name for name in dset])\n",
    "# dset['hist']\n",
    "# hist=dset['hist']"
   ]
  },
  {
   "cell_type": "code",
   "execution_count": 8,
   "metadata": {},
   "outputs": [
    {
     "name": "stdout",
     "output_type": "stream",
     "text": [
      "/global/project/projectdirs/dasrepo/vpa/atlas_cnn/data/RPVSusyData/all_data_merged.h5\n"
     ]
    }
   ],
   "source": [
    "filename=data_dir+'all_data_merged.h5'\n",
    "print(filename)\n",
    "\n",
    "try: \n",
    "    hf = h5py.File(filename)\n",
    "    \n",
    "except:\n",
    "    print(e)\n",
    "    print(\"Name of file\",filename)\n",
    "    raise SystemError\n",
    "\n",
    "idx=None\n",
    "images = np.expand_dims(hf['all_events']['hist'][:idx], -1)\n",
    "labels = hf['all_events']['y'][:idx]\n",
    "weights = hf['all_events']['weight'][:idx]\n",
    "weights = np.log(weights+1)\n"
   ]
  },
  {
   "cell_type": "markdown",
   "metadata": {},
   "source": [
    "### Data summary"
   ]
  },
  {
   "cell_type": "code",
   "execution_count": 11,
   "metadata": {},
   "outputs": [
    {
     "name": "stdout",
     "output_type": "stream",
     "text": [
      "(687358,) (687358, 64, 64, 1) (687358,)\n"
     ]
    }
   ],
   "source": [
    "print(labels.shape,images.shape,weights.shape)"
   ]
  },
  {
   "cell_type": "markdown",
   "metadata": {},
   "source": [
    "### Plot labels"
   ]
  },
  {
   "cell_type": "code",
   "execution_count": 10,
   "metadata": {},
   "outputs": [
    {
     "data": {
      "application/vnd.jupyter.widget-view+json": {
       "model_id": "59f4ba0093dd4d2780e445bde3633d6e",
       "version_major": 2,
       "version_minor": 0
      },
      "text/plain": [
       "Canvas(toolbar=Toolbar(toolitems=[('Home', 'Reset original view', 'home', 'home'), ('Back', 'Back to previous …"
      ]
     },
     "metadata": {},
     "output_type": "display_data"
    },
    {
     "data": {
      "text/plain": [
       "[<matplotlib.lines.Line2D at 0x2ab01c01b7f0>]"
      ]
     },
     "execution_count": 10,
     "metadata": {},
     "output_type": "execute_result"
    }
   ],
   "source": [
    "plt.figure()\n",
    "plt.plot(labels)\n"
   ]
  },
  {
   "cell_type": "code",
   "execution_count": null,
   "metadata": {},
   "outputs": [],
   "source": [
    "\n",
    "\n",
    "def f_plot_images(arr):\n",
    "    ''' Plots 2D images'''\n",
    "\n",
    "    rows,cols=2,5\n",
    "    fig,axarr=plt.subplots(rows,cols,figsize=(10,2))\n",
    "    for i in range(rows*cols):\n",
    "        row,col=int(i/cols),i%cols\n",
    "    #     print(i,'\\t',row,col)\n",
    "        axarr[row,col].imshow(arr[i,:,:],origin='lower',alpha=0.9)\n",
    "        axarr[row,col].set_xticks(np.arange(0,62,10))\n",
    "        axarr[row,col].set_yticks(np.arange(0,22,10))\n",
    "\n",
    "#     fig.subplots_adjust(hspace=0.0)\n",
    "    # Drop axis labels\n",
    "    temp=plt.setp([a.get_xticklabels() for a in axarr[:-1, :].flatten()], visible=False)\n",
    "    temp=plt.setp([a.get_yticklabels() for a in axarr[:,1:].flatten()], visible=False)\n",
    "\n",
    "\n",
    "f_plot_images(images[:10,:,:,0])"
   ]
  },
  {
   "cell_type": "code",
   "execution_count": null,
   "metadata": {},
   "outputs": [],
   "source": []
  }
 ],
 "metadata": {
  "kernelspec": {
   "display_name": "v_py3",
   "language": "python",
   "name": "v_jpt_py3"
  },
  "language_info": {
   "codemirror_mode": {
    "name": "ipython",
    "version": 3
   },
   "file_extension": ".py",
   "mimetype": "text/x-python",
   "name": "python",
   "nbconvert_exporter": "python",
   "pygments_lexer": "ipython3",
   "version": "3.6.8"
  }
 },
 "nbformat": 4,
 "nbformat_minor": 4
}
