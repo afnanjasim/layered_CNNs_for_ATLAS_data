{
 "cells": [
  {
   "cell_type": "markdown",
   "metadata": {},
   "source": [
    "# Code to view the ATLAS 2D data \n",
    "\n",
    "Using classes to view the data\n",
    "September 17, 2019\n",
    "\n"
   ]
  },
  {
   "cell_type": "code",
   "execution_count": 3,
   "metadata": {},
   "outputs": [],
   "source": [
    "import numpy as np\n",
    "import matplotlib.pyplot as plt\n",
    "import pandas as pd\n",
    "import h5py\n",
    "\n",
    "import subprocess as sp\n"
   ]
  },
  {
   "cell_type": "code",
   "execution_count": 4,
   "metadata": {},
   "outputs": [],
   "source": [
    "%matplotlib widget"
   ]
  },
  {
   "cell_type": "code",
   "execution_count": 5,
   "metadata": {},
   "outputs": [],
   "source": [
    "data_dir='/global/project/projectdirs/dasrepo/vpa/atlas_cnn/data/RPVSusyData/'"
   ]
  },
  {
   "cell_type": "code",
   "execution_count": 10,
   "metadata": {},
   "outputs": [],
   "source": [
    "class data_set:\n",
    "    ''' Simple class to store the data set \n",
    "    variables: labels, images, weights\n",
    "    Modules: Getting summary, Plotting\n",
    "    Example objects: train data, test data, validation data)\n",
    "    '''\n",
    "    \n",
    "    def __init__(self, filename):\n",
    "        self.filename=filename\n",
    "        self.f_get_data()\n",
    "        print(\"Created object from file \",filename)\n",
    "        \n",
    "    def f_get_data(self):\n",
    "        '''\n",
    "        Function to get data from hdf5 files into images, labels and weights.\n",
    "        '''\n",
    "        try: \n",
    "            hf = h5py.File(self.filename)\n",
    "\n",
    "        except Exception as e:\n",
    "            print(e)\n",
    "            print(\"Name of file\",self.filename)\n",
    "            raise SystemError\n",
    "\n",
    "        idx=None  ### Index for the case when the data is too large and you want to read in a slice\n",
    "        self.images = np.expand_dims(hf['all_events']['hist'][:idx], -1)\n",
    "        self.labels = hf['all_events']['y'][:idx]\n",
    "        weights = hf['all_events']['weight'][:idx]\n",
    "        self.weights = np.log(weights+1)\n",
    "\n",
    "        \n",
    "    def f_compute_summary(self):\n",
    "        ''' Module to get a summary of data\n",
    "        For Labels: signal, background ratio\n",
    "        For images: zero images\n",
    "        '''\n",
    "        \n",
    "        ### General summary\n",
    "        print(\"Array shapes: Labels: %s, Weights: %s, Images: %s\"%(self.labels.shape,self.weights.shape,self.images.shape))\n",
    "        \n",
    "        ### Label summary ###\n",
    "        total=self.labels.shape[0]\n",
    "        bkgnd=self.labels[self.labels==0.0].shape[0]\n",
    "        signal=total-bkgnd\n",
    "        print(\"Signal: {0}\\tBKGND: {1}\\tTotal: {2}\".format(signal,bkgnd,total))\n",
    "        \n",
    "        print(\"Signal ratio: {0} % \".format(signal*100.0/total))\n",
    "\n",
    "        ### Image summary ###\n",
    "        \n",
    "        ### Get a list of images that are zero\n",
    "        zero_lst=[i for i in validation.images[:,:,:,0] if not np.any(i)]\n",
    "        if not zero_lst: \n",
    "            print(\"No zero images\")\n",
    "        else :\n",
    "            print(\"Zero images\",len(zero_lst))\n",
    "            print(zero_lst)\n",
    "    \n",
    "        \n",
    "    def f_plot_labels(self):\n",
    "        ''' Plots giving information on labels.\n",
    "        1- Plot of all labels i.e. signal = 1.0, background =0.0  vs run time\n",
    "        2- Histogram of labels. signal-background = 1.0/0.0\n",
    "        3- Plot of signal vs signal locations \n",
    "        4- Histogram of signal locations\n",
    "        \n",
    "        '''\n",
    "        \n",
    "        vals=self.labels\n",
    "        fig=plt.figure()\n",
    "        fig.subplots_adjust(left=None, bottom=None, right=None, top=None, wspace=0.2, hspace=0.35)\n",
    "\n",
    "        fig.add_subplot(2,2,1)\n",
    "        plt.plot(vals,linestyle='',marker='*')\n",
    "        plt.title(\"Plot of all labels\")\n",
    "\n",
    "        fig.add_subplot(2,2,2)\n",
    "        n,bins,patches=plt.hist(vals, density=None, bins=3)\n",
    "        plt.title(\"Histogram of background(=0) and signal\")\n",
    "\n",
    "        ### Getting the location of the signals\n",
    "        sigs=np.where(vals==1.0)[0]\n",
    "\n",
    "        fig.add_subplot(2,2,3)\n",
    "        plt.plot(sigs[:],np.ones(sigs.shape),linestyle='',marker='o')\n",
    "        plt.title(\"Plot of signal locations\")\n",
    "\n",
    "        fig.add_subplot(2,2,4)\n",
    "        n,bins,patches=plt.hist(sigs, density=None, bins=50,color='c')\n",
    "        plt.title('Histogram of signal locations')\n",
    "\n",
    "    \n",
    "    def f_plot_weights(self):\n",
    "        '''\n",
    "        Plot weights\n",
    "        2 plots, general plot of weights and histogram\n",
    "        '''\n",
    "        vals=self.weights\n",
    "        fig=plt.figure()\n",
    "        fig.subplots_adjust(left=None, bottom=None, right=None, top=None, wspace=0.2, hspace=0.35)\n",
    "\n",
    "        fig.add_subplot(1,2,1)\n",
    "        plt.plot(vals,linestyle='',marker='o')\n",
    "        plt.title(\"Plot of all weights\")\n",
    "\n",
    "        fig.add_subplot(1,2,2)\n",
    "        n,bins,patches=plt.hist(vals, density=None, bins=20)\n",
    "        plt.title(\"Histogram of weights\")\n",
    "    \n",
    "    def f_plot_images(self,idx=0):\n",
    "        ''' Plots 2D for 10 images\n",
    "        input argument : idx = image number\n",
    "        Gives 10 images from idx to idx+10\n",
    "        '''\n",
    "        \n",
    "        rows,cols=2,5\n",
    "        \n",
    "        ### Get part of the image array to plot\n",
    "        arr=self.images[idx:idx+10][:,:,:,0]\n",
    "        \n",
    "        fig,axarr=plt.subplots(rows,cols,figsize=(10,2))\n",
    "        for i in range(rows*cols):\n",
    "            row,col=int(i/cols),i%cols\n",
    "        #     print(i,'\\t',row,col)\n",
    "            axarr[row,col].imshow(arr[i],origin='lower',alpha=0.9)\n",
    "            axarr[row,col].set_xticks(np.arange(0,62,10))\n",
    "            axarr[row,col].set_yticks(np.arange(0,22,10))\n",
    "\n",
    "    #     fig.subplots_adjust(hspace=0.0)\n",
    "        # Drop axis labels\n",
    "        temp=plt.setp([a.get_xticklabels() for a in axarr[:-1,:].flatten()], visible=False)\n",
    "        temp=plt.setp([a.get_yticklabels() for a in axarr[:,1:].flatten()], visible=False)\n",
    "\n"
   ]
  },
  {
   "cell_type": "code",
   "execution_count": 7,
   "metadata": {},
   "outputs": [
    {
     "name": "stdout",
     "output_type": "stream",
     "text": [
      "Created object from file  /global/project/projectdirs/dasrepo/vpa/atlas_cnn/data/RPVSusyData/train.h5\n"
     ]
    }
   ],
   "source": [
    "validation=data_set(data_dir+'val.h5')"
   ]
  },
  {
   "cell_type": "code",
   "execution_count": 9,
   "metadata": {},
   "outputs": [
    {
     "name": "stdout",
     "output_type": "stream",
     "text": [
      "Array shapes: Labels: (412416,), Weights: (412416,), Images: (412416, 64, 64, 1)\n",
      "Signal: 175795\tBKGND: 236621\tTotal: 412416\n",
      "Signal ratio: 42.625649829298574 % \n",
      "No zero images\n"
     ]
    },
    {
     "data": {
      "application/vnd.jupyter.widget-view+json": {
       "model_id": "34877011504e4c6c84b2c34c591f706f",
       "version_major": 2,
       "version_minor": 0
      },
      "text/plain": [
       "Canvas(toolbar=Toolbar(toolitems=[('Home', 'Reset original view', 'home', 'home'), ('Back', 'Back to previous …"
      ]
     },
     "metadata": {},
     "output_type": "display_data"
    },
    {
     "data": {
      "application/vnd.jupyter.widget-view+json": {
       "model_id": "4a806d8490774d519692d3142a484e6b",
       "version_major": 2,
       "version_minor": 0
      },
      "text/plain": [
       "Canvas(toolbar=Toolbar(toolitems=[('Home', 'Reset original view', 'home', 'home'), ('Back', 'Back to previous …"
      ]
     },
     "metadata": {},
     "output_type": "display_data"
    },
    {
     "data": {
      "application/vnd.jupyter.widget-view+json": {
       "model_id": "31a6df53a63245b88b59459e1df66ddc",
       "version_major": 2,
       "version_minor": 0
      },
      "text/plain": [
       "Canvas(toolbar=Toolbar(toolitems=[('Home', 'Reset original view', 'home', 'home'), ('Back', 'Back to previous …"
      ]
     },
     "metadata": {},
     "output_type": "display_data"
    }
   ],
   "source": [
    "# vars(data_set)\n",
    "\n",
    "validation.f_compute_summary()\n",
    "validation.f_plot_labels()\n",
    "validation.f_plot_weights()\n",
    "validation.f_plot_images()"
   ]
  },
  {
   "cell_type": "code",
   "execution_count": null,
   "metadata": {},
   "outputs": [],
   "source": [
    "file_list=['train.h5','val.h5','test.h5']\n",
    "dict1={}\n",
    "for filename,key in zip([data_dir+ s for s in file_list],['train','val','test']):\n",
    "#     print(filename,key)\n",
    "    dict1[key]=data_set(filename)"
   ]
  },
  {
   "cell_type": "code",
   "execution_count": null,
   "metadata": {},
   "outputs": [],
   "source": []
  },
  {
   "cell_type": "code",
   "execution_count": null,
   "metadata": {},
   "outputs": [],
   "source": []
  }
 ],
 "metadata": {
  "kernelspec": {
   "display_name": "v_py3",
   "language": "python",
   "name": "v_jpt_py3"
  },
  "language_info": {
   "codemirror_mode": {
    "name": "ipython",
    "version": 3
   },
   "file_extension": ".py",
   "mimetype": "text/x-python",
   "name": "python",
   "nbconvert_exporter": "python",
   "pygments_lexer": "ipython3",
   "version": "3.6.8"
  }
 },
 "nbformat": 4,
 "nbformat_minor": 4
}
