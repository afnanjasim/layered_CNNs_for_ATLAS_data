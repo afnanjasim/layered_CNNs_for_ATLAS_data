{
 "cells": [
  {
   "cell_type": "markdown",
   "metadata": {},
   "source": [
    "# Code to view the ATLAS 2D data \n",
    "August 9, 2019\n"
   ]
  },
  {
   "cell_type": "code",
   "execution_count": 8,
   "metadata": {},
   "outputs": [],
   "source": [
    "import numpy as np\n",
    "import matplotlib.pyplot as plt\n",
    "import pandas as pd\n",
    "import h5py\n",
    "\n",
    "import subprocess as sp\n",
    "import pickle\n"
   ]
  },
  {
   "cell_type": "code",
   "execution_count": 9,
   "metadata": {},
   "outputs": [],
   "source": [
    "## M-L modules\n",
    "import tensorflow.keras\n",
    "from tensorflow.keras import layers, models, optimizers, callbacks  # or tensorflow.keras as keras\n",
    "import tensorflow as tf\n",
    "from sklearn.utils import shuffle\n",
    "from sklearn.metrics import roc_curve, auc, roc_auc_score\n",
    "from tensorflow.keras.models import load_model\n"
   ]
  },
  {
   "cell_type": "code",
   "execution_count": 10,
   "metadata": {},
   "outputs": [],
   "source": [
    "%matplotlib widget"
   ]
  },
  {
   "cell_type": "markdown",
   "metadata": {},
   "source": [
    "## Modules"
   ]
  },
  {
   "cell_type": "code",
   "execution_count": 13,
   "metadata": {},
   "outputs": [],
   "source": [
    "def f_get_data(filename):\n",
    "    '''\n",
    "    Function to get data from hdf5 files into images, labels and weights.\n",
    "    '''\n",
    "    try: \n",
    "        hf = h5py.File(filename)\n",
    "\n",
    "    except:\n",
    "        print(e)\n",
    "        print(\"Name of file\",filename)\n",
    "        raise SystemError\n",
    "\n",
    "    idx=50000\n",
    "    images = np.expand_dims(hf['all_events']['hist'][:idx], -1)\n",
    "    labels = hf['all_events']['y'][:idx]\n",
    "    weights = hf['all_events']['weight'][:idx]\n",
    "    weights = np.log(weights+1)\n",
    "\n",
    "    keys=['images','labels','weights']\n",
    "    values_dict=dict(zip(keys,[images,labels,weights]))\n",
    "\n",
    "    return values_dict\n",
    "\n"
   ]
  },
  {
   "cell_type": "code",
   "execution_count": 14,
   "metadata": {},
   "outputs": [],
   "source": [
    "def f_define_model(inpx,name='1'):\n",
    "    '''\n",
    "    Function that defines the model and compiles it.\n",
    "    '''\n",
    "    \n",
    "    inputs = layers.Input(shape=inpx.shape[1:])\n",
    "    h = inputs\n",
    "    \n",
    "    # Choose model\n",
    "    \n",
    "    if name=='1':\n",
    "        # Convolutional layers\n",
    "        conv_sizes=[10,10,10]\n",
    "        conv_args = dict(kernel_size=(3, 3), activation='relu', padding='same')\n",
    "        for conv_size in conv_sizes:\n",
    "            h = layers.Conv2D(conv_size, **conv_args)(h)\n",
    "            h = layers.MaxPooling2D(pool_size=(2, 2))(h)\n",
    "            h = layers.Dropout(0.5)(h)\n",
    "        h = layers.Flatten()(h)\n",
    "\n",
    "        # Fully connected  layers\n",
    "        h = layers.Dense(64, activation='relu')(h)\n",
    "        h = layers.Dropout(0.5)(h)\n",
    "\n",
    "        # Ouptut layer\n",
    "        outputs = layers.Dense(1, activation='sigmoid')(h)\n",
    "   \n",
    "        learn_rate=0.0005\n",
    "    \n",
    "        model = models.Model(inputs, outputs)\n",
    "        #### change loss function for non-resnet models since 'sparse_categorical_crossentropy' throws up an error.\n",
    "        opt,loss_fn=optimizers.Adam(lr=learn_rate),'binary_crossentropy'\n",
    "    \n",
    "    model.compile(optimizer=opt, loss=loss_fn, metrics=['accuracy'])\n",
    "    #print(\"model %s\"%name)\n",
    "    #model.summary()\n",
    "\n",
    "    return model\n",
    "\n",
    "\n",
    "def f_train_model(model,inpx,inpy,num_epochs=5):\n",
    "    '''\n",
    "    Train model. Returns just history.history\n",
    "    '''\n",
    "    cv_fraction=0.33 # Fraction of data for cross validation\n",
    "    \n",
    "    history=model.fit(x=inpx, y=inpy,\n",
    "                    batch_size=64,\n",
    "                    epochs=num_epochs,\n",
    "                    verbose=1,\n",
    "                    #callbacks = [callbacks.ModelCheckpoint('.mdl_weights.h5', save_best_only=True, monitor='val_loss', mode='min') ],\n",
    "                    callbacks = [callbacks.EarlyStopping(monitor='val_loss', min_delta=0,patience=10, verbose=1)],\n",
    "                    #callbacks = [callbacks.ModelCheckpoint('.mdl_weights.h5', save_best_only=True, monitor='val_loss', mode='min') ],\n",
    "                    validation_split=cv_fraction,\n",
    "                    shuffle=True\n",
    "                )\n",
    "    \n",
    "    print(\"Number of parameters\",model.count_params())\n",
    "    \n",
    "    return history.history\n",
    "\n",
    "\n",
    "def f_plot_learning(history):\n",
    "    '''Plot learning curves : Accuracy and Validation'''\n",
    "    fig=plt.figure()\n",
    "    # Plot training & validation accuracy values\n",
    "    fig.add_subplot(2,1,1)\n",
    "    xlim=len(history['acc'])\n",
    "    \n",
    "    plt.plot(history['acc'],label='Train',marker='o')\n",
    "    plt.plot(history['val_acc'],label='Validation',marker='*')\n",
    "#     plt.title('Model accuracy')\n",
    "    plt.ylabel('Accuracy')\n",
    "    plt.xticks(np.arange(0,xlim,2))\n",
    "    \n",
    "    # Plot loss values\n",
    "    fig.add_subplot(2,1,2)\n",
    "    plt.plot(history['loss'],label='Train',marker='o')\n",
    "    plt.plot(history['val_loss'],label='Validation',marker='*')\n",
    "#     plt.title('Model loss')\n",
    "    plt.ylabel('Loss')\n",
    "    plt.xlabel('Epoch')\n",
    "    plt.xticks(np.arange(0,xlim,2))\n",
    "\n",
    "    plt.legend(loc='best')\n",
    "\n",
    "\n",
    "\n",
    "def f_plot_roc_curve(fpr,tpr):\n",
    "    '''\n",
    "    Module for roc plot and printing AUC\n",
    "    '''\n",
    "    plt.figure()\n",
    "    # plt.plot(fpr,tpr)\n",
    "    plt.scatter(fpr,tpr)\n",
    "    plt.semilogx(fpr, tpr)\n",
    "  # Zooms\n",
    "    plt.xlim([10**-7,1.0])\n",
    "    plt.ylim([0,1.0])\n",
    "    # y=x line for comparison\n",
    "    x=np.linspace(0,1,num=500)\n",
    "    plt.plot(x,x)\n",
    "#     plt.xscale('log')\n",
    "#     plt.xlim(1e-10,1e-5)\n",
    "    plt.show()\n",
    "\n",
    "    # AUC \n",
    "    auc_val = auc(fpr, tpr)\n",
    "    print(\"AUC: \",auc_val)\n",
    "    \n"
   ]
  },
  {
   "cell_type": "markdown",
   "metadata": {},
   "source": [
    "## Read data"
   ]
  },
  {
   "cell_type": "code",
   "execution_count": 15,
   "metadata": {},
   "outputs": [],
   "source": [
    "### Extract the training and validation data\n",
    "data_dir='/global/project/projectdirs/dasrepo/vpa/atlas_cnn/data/RPVSusyData/'\n",
    "#### Training data\n",
    "filename=data_dir+'train.h5'\n",
    "# print(filename)\n",
    "train_data_dict=f_get_data(filename)\n",
    "\n",
    "#### Test_data\n",
    "filename=data_dir+'val.h5'\n",
    "test_data_dict=f_get_data(filename)\n",
    "\n"
   ]
  },
  {
   "cell_type": "code",
   "execution_count": 16,
   "metadata": {},
   "outputs": [],
   "source": [
    "train_x,train_y,train_wts=train_data_dict['images'],train_data_dict['labels'],train_data_dict['weights']"
   ]
  },
  {
   "cell_type": "code",
   "execution_count": 17,
   "metadata": {},
   "outputs": [
    {
     "name": "stdout",
     "output_type": "stream",
     "text": [
      "(50000, 64, 64, 1) (50000,) (50000,)\n"
     ]
    }
   ],
   "source": [
    "print(train_x.shape,train_y.shape,train_wts.shape)"
   ]
  },
  {
   "cell_type": "markdown",
   "metadata": {},
   "source": [
    "### Define and train model"
   ]
  },
  {
   "cell_type": "code",
   "execution_count": 18,
   "metadata": {},
   "outputs": [
    {
     "name": "stdout",
     "output_type": "stream",
     "text": [
      "WARNING:tensorflow:From /global/homes/v/vpa/.conda/envs/v_py3/lib/python3.6/site-packages/tensorflow/python/ops/resource_variable_ops.py:435: colocate_with (from tensorflow.python.framework.ops) is deprecated and will be removed in a future version.\n",
      "Instructions for updating:\n",
      "Colocations handled automatically by placer.\n",
      "WARNING:tensorflow:From /global/homes/v/vpa/.conda/envs/v_py3/lib/python3.6/site-packages/tensorflow/python/keras/layers/core.py:143: calling dropout (from tensorflow.python.ops.nn_ops) with keep_prob is deprecated and will be removed in a future version.\n",
      "Instructions for updating:\n",
      "Please use `rate` instead of `keep_prob`. Rate should be set to `rate = 1 - keep_prob`.\n",
      "Train on 33500 samples, validate on 16500 samples\n",
      "WARNING:tensorflow:From /global/homes/v/vpa/.conda/envs/v_py3/lib/python3.6/site-packages/tensorflow/python/ops/math_ops.py:3066: to_int32 (from tensorflow.python.ops.math_ops) is deprecated and will be removed in a future version.\n",
      "Instructions for updating:\n",
      "Use tf.cast instead.\n",
      "Epoch 1/50\n",
      "33500/33500 [==============================] - 71s 2ms/sample - loss: 0.3651 - acc: 0.8261 - val_loss: 0.2472 - val_acc: 0.9012\n",
      "Epoch 2/50\n",
      "33500/33500 [==============================] - 70s 2ms/sample - loss: 0.2609 - acc: 0.8978 - val_loss: 0.2442 - val_acc: 0.9012\n",
      "Epoch 3/50\n",
      "33500/33500 [==============================] - 70s 2ms/sample - loss: 0.2504 - acc: 0.9000 - val_loss: 0.2383 - val_acc: 0.9044\n",
      "Epoch 4/50\n",
      "33500/33500 [==============================] - 76s 2ms/sample - loss: 0.2491 - acc: 0.9011 - val_loss: 0.2393 - val_acc: 0.9025\n",
      "Epoch 5/50\n",
      "33500/33500 [==============================] - 74s 2ms/sample - loss: 0.2473 - acc: 0.9018 - val_loss: 0.2364 - val_acc: 0.9057\n",
      "Epoch 6/50\n",
      "33500/33500 [==============================] - 75s 2ms/sample - loss: 0.2442 - acc: 0.9022 - val_loss: 0.2367 - val_acc: 0.9054\n",
      "Epoch 7/50\n",
      "33500/33500 [==============================] - 73s 2ms/sample - loss: 0.2437 - acc: 0.9046 - val_loss: 0.2351 - val_acc: 0.9065\n",
      "Epoch 8/50\n",
      "33500/33500 [==============================] - 73s 2ms/sample - loss: 0.2416 - acc: 0.9039 - val_loss: 0.2373 - val_acc: 0.9047\n",
      "Epoch 9/50\n",
      "33500/33500 [==============================] - 76s 2ms/sample - loss: 0.2416 - acc: 0.9045 - val_loss: 0.2356 - val_acc: 0.9055\n",
      "Epoch 10/50\n",
      "33500/33500 [==============================] - 74s 2ms/sample - loss: 0.2393 - acc: 0.9034 - val_loss: 0.2361 - val_acc: 0.9056\n",
      "Epoch 11/50\n",
      "33500/33500 [==============================] - 72s 2ms/sample - loss: 0.2380 - acc: 0.9056 - val_loss: 0.2369 - val_acc: 0.9047\n",
      "Epoch 12/50\n",
      "33500/33500 [==============================] - 76s 2ms/sample - loss: 0.2385 - acc: 0.9042 - val_loss: 0.2357 - val_acc: 0.9054\n",
      "Epoch 13/50\n",
      "33500/33500 [==============================] - 74s 2ms/sample - loss: 0.2376 - acc: 0.9053 - val_loss: 0.2355 - val_acc: 0.9045\n",
      "Epoch 14/50\n",
      "33500/33500 [==============================] - 73s 2ms/sample - loss: 0.2386 - acc: 0.9048 - val_loss: 0.2364 - val_acc: 0.9039\n",
      "Epoch 15/50\n",
      "33500/33500 [==============================] - 73s 2ms/sample - loss: 0.2374 - acc: 0.9047 - val_loss: 0.2326 - val_acc: 0.9070\n",
      "Epoch 16/50\n",
      "33500/33500 [==============================] - 76s 2ms/sample - loss: 0.2375 - acc: 0.9053 - val_loss: 0.2412 - val_acc: 0.9005\n",
      "Epoch 17/50\n",
      "33500/33500 [==============================] - 75s 2ms/sample - loss: 0.2364 - acc: 0.9053 - val_loss: 0.2351 - val_acc: 0.9047\n",
      "Epoch 18/50\n",
      "33500/33500 [==============================] - 73s 2ms/sample - loss: 0.2353 - acc: 0.9057 - val_loss: 0.2326 - val_acc: 0.9059\n",
      "Epoch 19/50\n",
      "33500/33500 [==============================] - 73s 2ms/sample - loss: 0.2368 - acc: 0.9046 - val_loss: 0.2350 - val_acc: 0.9078\n",
      "Epoch 20/50\n",
      "33500/33500 [==============================] - 74s 2ms/sample - loss: 0.2357 - acc: 0.9054 - val_loss: 0.2331 - val_acc: 0.9060\n",
      "Epoch 21/50\n",
      "33500/33500 [==============================] - 72s 2ms/sample - loss: 0.2361 - acc: 0.9065 - val_loss: 0.2351 - val_acc: 0.9045\n",
      "Epoch 22/50\n",
      "33500/33500 [==============================] - 73s 2ms/sample - loss: 0.2346 - acc: 0.9055 - val_loss: 0.2383 - val_acc: 0.9012\n",
      "Epoch 23/50\n",
      "33500/33500 [==============================] - 73s 2ms/sample - loss: 0.2375 - acc: 0.9056 - val_loss: 0.2419 - val_acc: 0.8999\n",
      "Epoch 24/50\n",
      "33500/33500 [==============================] - 75s 2ms/sample - loss: 0.2360 - acc: 0.9063 - val_loss: 0.2363 - val_acc: 0.9027\n",
      "Epoch 25/50\n",
      "33500/33500 [==============================] - 73s 2ms/sample - loss: 0.2346 - acc: 0.9068 - val_loss: 0.2333 - val_acc: 0.9052\n",
      "Epoch 00025: early stopping\n",
      "Number of parameters 43009\n"
     ]
    }
   ],
   "source": [
    "# print(train_data_dict)\n",
    "# Compile model\n",
    "model_name='1'\n",
    "model=f_define_model(train_x,name=model_name)\n",
    "# print(model)\n",
    "# Train model\n",
    "history=f_train_model(model,train_x,train_y,num_epochs=50)\n"
   ]
  },
  {
   "cell_type": "markdown",
   "metadata": {},
   "source": [
    "### Save model and history"
   ]
  },
  {
   "cell_type": "code",
   "execution_count": 19,
   "metadata": {},
   "outputs": [],
   "source": [
    "# Save model and history\n",
    "model_save_dir='saved_data/'\n",
    "fname_model,fname_history='model_{0}.h5'.format(model_name),'history_{0}.pickle'.format(model_name)\n",
    "\n",
    "model.save(model_save_dir+fname_model)\n",
    "with open(model_save_dir+fname_history, 'wb') as f:\n",
    "        pickle.dump(history, f)\n"
   ]
  },
  {
   "cell_type": "markdown",
   "metadata": {},
   "source": [
    "## Read stored model"
   ]
  },
  {
   "cell_type": "code",
   "execution_count": null,
   "metadata": {},
   "outputs": [],
   "source": [
    "# Load model and history\n",
    "model=load_model(model_save_dir+fname_model)\n",
    "with open(model_save_dir+fname_history,'rb') as f:\n",
    "    history= pickle.load(f)"
   ]
  },
  {
   "cell_type": "code",
   "execution_count": 20,
   "metadata": {},
   "outputs": [
    {
     "name": "stdout",
     "output_type": "stream",
     "text": [
      "_________________________________________________________________\n",
      "Layer (type)                 Output Shape              Param #   \n",
      "=================================================================\n",
      "input_1 (InputLayer)         (None, 64, 64, 1)         0         \n",
      "_________________________________________________________________\n",
      "conv2d (Conv2D)              (None, 64, 64, 10)        100       \n",
      "_________________________________________________________________\n",
      "max_pooling2d (MaxPooling2D) (None, 32, 32, 10)        0         \n",
      "_________________________________________________________________\n",
      "dropout (Dropout)            (None, 32, 32, 10)        0         \n",
      "_________________________________________________________________\n",
      "conv2d_1 (Conv2D)            (None, 32, 32, 10)        910       \n",
      "_________________________________________________________________\n",
      "max_pooling2d_1 (MaxPooling2 (None, 16, 16, 10)        0         \n",
      "_________________________________________________________________\n",
      "dropout_1 (Dropout)          (None, 16, 16, 10)        0         \n",
      "_________________________________________________________________\n",
      "conv2d_2 (Conv2D)            (None, 16, 16, 10)        910       \n",
      "_________________________________________________________________\n",
      "max_pooling2d_2 (MaxPooling2 (None, 8, 8, 10)          0         \n",
      "_________________________________________________________________\n",
      "dropout_2 (Dropout)          (None, 8, 8, 10)          0         \n",
      "_________________________________________________________________\n",
      "flatten (Flatten)            (None, 640)               0         \n",
      "_________________________________________________________________\n",
      "dense (Dense)                (None, 64)                41024     \n",
      "_________________________________________________________________\n",
      "dropout_3 (Dropout)          (None, 64)                0         \n",
      "_________________________________________________________________\n",
      "dense_1 (Dense)              (None, 1)                 65        \n",
      "=================================================================\n",
      "Total params: 43,009\n",
      "Trainable params: 43,009\n",
      "Non-trainable params: 0\n",
      "_________________________________________________________________\n"
     ]
    },
    {
     "data": {
      "application/vnd.jupyter.widget-view+json": {
       "model_id": "3283e5f04aed4446a55d9dd15f7f815b",
       "version_major": 2,
       "version_minor": 0
      },
      "text/plain": [
       "Canvas(toolbar=Toolbar(toolitems=[('Home', 'Reset original view', 'home', 'home'), ('Back', 'Back to previous …"
      ]
     },
     "metadata": {},
     "output_type": "display_data"
    }
   ],
   "source": [
    "model.summary()\n",
    "# Plot tested model\n",
    "f_plot_learning(history)"
   ]
  },
  {
   "cell_type": "markdown",
   "metadata": {},
   "source": [
    "### Test data"
   ]
  },
  {
   "cell_type": "code",
   "execution_count": 23,
   "metadata": {},
   "outputs": [
    {
     "name": "stdout",
     "output_type": "stream",
     "text": [
      "(50000, 64, 64, 1) (50000,) (50000,)\n"
     ]
    }
   ],
   "source": [
    "test_x,test_y,test_wts=test_data_dict['images'],test_data_dict['labels'],test_data_dict['weights']\n",
    "print(test_x.shape,test_y.shape,test_wts.shape)"
   ]
  },
  {
   "cell_type": "markdown",
   "metadata": {},
   "source": [
    "### Predictions and roc curve"
   ]
  },
  {
   "cell_type": "code",
   "execution_count": 22,
   "metadata": {},
   "outputs": [
    {
     "name": "stdout",
     "output_type": "stream",
     "text": [
      "50000/50000 [==============================] - 39s 771us/sample\n",
      "(14125,) (14125,) (14125,)\n"
     ]
    },
    {
     "data": {
      "application/vnd.jupyter.widget-view+json": {
       "model_id": "f835c7a98b5d4214b1dda2170f74c4b4",
       "version_major": 2,
       "version_minor": 0
      },
      "text/plain": [
       "Canvas(toolbar=Toolbar(toolitems=[('Home', 'Reset original view', 'home', 'home'), ('Back', 'Back to previous …"
      ]
     },
     "metadata": {},
     "output_type": "display_data"
    },
    {
     "name": "stdout",
     "output_type": "stream",
     "text": [
      "AUC:  0.9172504911841929\n"
     ]
    }
   ],
   "source": [
    "# Make predictions\n",
    "y_pred=model.predict(test_x,verbose=1)\n",
    "\n",
    "fpr,tpr,threshold=roc_curve(test_y,y_pred,sample_weight=test_wts)\n",
    "print(fpr.shape,tpr.shape,threshold.shape)\n",
    "# Plot roc curve\n",
    "f_plot_roc_curve(fpr,tpr)"
   ]
  },
  {
   "cell_type": "code",
   "execution_count": null,
   "metadata": {},
   "outputs": [],
   "source": []
  },
  {
   "cell_type": "code",
   "execution_count": null,
   "metadata": {},
   "outputs": [],
   "source": []
  }
 ],
 "metadata": {
  "kernelspec": {
   "display_name": "v_py3",
   "language": "python",
   "name": "v_jpt_py3"
  },
  "language_info": {
   "codemirror_mode": {
    "name": "ipython",
    "version": 3
   },
   "file_extension": ".py",
   "mimetype": "text/x-python",
   "name": "python",
   "nbconvert_exporter": "python",
   "pygments_lexer": "ipython3",
   "version": "3.6.8"
  }
 },
 "nbformat": 4,
 "nbformat_minor": 4
}
